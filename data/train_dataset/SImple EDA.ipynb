{
 "cells": [
  {
   "cell_type": "code",
   "execution_count": 21,
   "id": "liable-capacity",
   "metadata": {},
   "outputs": [],
   "source": [
    "import json\n",
    "json = json.load(open('train_dials.json',mode='r'))"
   ]
  },
  {
   "cell_type": "code",
   "execution_count": 2,
   "id": "administrative-pledge",
   "metadata": {},
   "outputs": [
    {
     "data": {
      "text/plain": [
       "{'dialogue_idx': 'snowy-hat-8324:관광_식당_11',\n",
       " 'domains': ['관광', '식당'],\n",
       " 'dialogue': [{'role': 'user',\n",
       "   'text': '서울 중앙에 있는 박물관을 찾아주세요',\n",
       "   'state': ['관광-종류-박물관', '관광-지역-서울 중앙']},\n",
       "  {'role': 'sys',\n",
       "   'text': '안녕하세요. 문화역서울 284은 어떠신가요? 평점도 4점으로 방문객들에게 좋은 평가를 받고 있습니다.'},\n",
       "  {'role': 'user',\n",
       "   'text': '좋네요 거기 평점은 말해주셨구 전화번호가 어떻게되나요?',\n",
       "   'state': ['관광-종류-박물관', '관광-지역-서울 중앙', '관광-이름-문화역서울 284']},\n",
       "  {'role': 'sys', 'text': '전화번호는 983880764입니다. 더 필요하신 게 있으실까요?'},\n",
       "  {'role': 'user',\n",
       "   'text': '네 관광지와 같은 지역의 한식당을 가고싶은데요 야외석이 있어야되요',\n",
       "   'state': ['관광-종류-박물관',\n",
       "    '관광-지역-서울 중앙',\n",
       "    '관광-이름-문화역서울 284',\n",
       "    '식당-지역-서울 중앙',\n",
       "    '식당-종류-한식당',\n",
       "    '식당-야외석 유무-yes']},\n",
       "  {'role': 'sys', 'text': '생각하고 계신 가격대가 있으신가요?'},\n",
       "  {'role': 'user',\n",
       "   'text': '음.. 저렴한 가격대에 있나요?',\n",
       "   'state': ['관광-종류-박물관',\n",
       "    '관광-지역-서울 중앙',\n",
       "    '관광-이름-문화역서울 284',\n",
       "    '식당-가격대-저렴',\n",
       "    '식당-지역-서울 중앙',\n",
       "    '식당-종류-한식당',\n",
       "    '식당-야외석 유무-yes']},\n",
       "  {'role': 'sys', 'text': '죄송하지만 저렴한 가격대에는 없으시네요.'},\n",
       "  {'role': 'user',\n",
       "   'text': '그럼 비싼 가격대로 다시 찾아주세요',\n",
       "   'state': ['관광-종류-박물관',\n",
       "    '관광-지역-서울 중앙',\n",
       "    '관광-이름-문화역서울 284',\n",
       "    '식당-가격대-비싼',\n",
       "    '식당-지역-서울 중앙',\n",
       "    '식당-종류-한식당',\n",
       "    '식당-야외석 유무-yes']},\n",
       "  {'role': 'sys', 'text': '외계인의맛집은 어떠신가요? 대표 메뉴는 한정식입니다.'},\n",
       "  {'role': 'user',\n",
       "   'text': '좋습니당 토요일 18:00에 1명 예약가능한가요?',\n",
       "   'state': ['관광-종류-박물관',\n",
       "    '관광-지역-서울 중앙',\n",
       "    '관광-이름-문화역서울 284',\n",
       "    '식당-가격대-비싼',\n",
       "    '식당-지역-서울 중앙',\n",
       "    '식당-종류-한식당',\n",
       "    '식당-야외석 유무-yes',\n",
       "    '식당-예약 요일-토요일',\n",
       "    '식당-예약 시간-18:00',\n",
       "    '식당-예약 명수-1',\n",
       "    '식당-이름-외계인의맛집']},\n",
       "  {'role': 'sys', 'text': '가능합니다. 예약도와드릴까요?'},\n",
       "  {'role': 'user',\n",
       "   'text': '넹 거기 주류는 판매하나요?주차는 가능한가요?',\n",
       "   'state': ['관광-종류-박물관',\n",
       "    '관광-지역-서울 중앙',\n",
       "    '관광-이름-문화역서울 284',\n",
       "    '식당-가격대-비싼',\n",
       "    '식당-지역-서울 중앙',\n",
       "    '식당-종류-한식당',\n",
       "    '식당-야외석 유무-yes',\n",
       "    '식당-예약 요일-토요일',\n",
       "    '식당-예약 시간-18:00',\n",
       "    '식당-예약 명수-1',\n",
       "    '식당-이름-외계인의맛집']},\n",
       "  {'role': 'sys', 'text': '주류는 판매하고 있고 주차도 가능합니다. 더 궁금하신 점 있으신가요?'},\n",
       "  {'role': 'user',\n",
       "   'text': '아니용',\n",
       "   'state': ['관광-종류-박물관',\n",
       "    '관광-지역-서울 중앙',\n",
       "    '관광-이름-문화역서울 284',\n",
       "    '식당-가격대-비싼',\n",
       "    '식당-지역-서울 중앙',\n",
       "    '식당-종류-한식당',\n",
       "    '식당-야외석 유무-yes',\n",
       "    '식당-예약 요일-토요일',\n",
       "    '식당-예약 시간-18:00',\n",
       "    '식당-예약 명수-1',\n",
       "    '식당-이름-외계인의맛집']},\n",
       "  {'role': 'sys', 'text': '감사합니다. 즐거운 여행되세요.'}]}"
      ]
     },
     "execution_count": 2,
     "metadata": {},
     "output_type": "execute_result"
    }
   ],
   "source": [
    "json[0]"
   ]
  },
  {
   "cell_type": "code",
   "execution_count": 3,
   "id": "western-million",
   "metadata": {},
   "outputs": [],
   "source": [
    "domain_dict={}\n",
    "for text in json:\n",
    "    for val in text['domains']:\n",
    "        if (val2:=domain_dict.get(val)) is None:\n",
    "            domain_dict[val]=1\n",
    "        else:\n",
    "            domain_dict[val]=val2+1"
   ]
  },
  {
   "cell_type": "code",
   "execution_count": 4,
   "id": "brutal-florence",
   "metadata": {},
   "outputs": [
    {
     "data": {
      "text/plain": [
       "{'관광': 3732, '식당': 4020, '지하철': 650, '택시': 2374, '숙소': 3802}"
      ]
     },
     "execution_count": 4,
     "metadata": {},
     "output_type": "execute_result"
    }
   ],
   "source": [
    "domain_dict"
   ]
  },
  {
   "cell_type": "code",
   "execution_count": 9,
   "id": "natural-export",
   "metadata": {},
   "outputs": [],
   "source": [
    "slot_dict={}\n",
    "for text in json:\n",
    "    for val_list in text['dialogue']:\n",
    "        if (val2:=val_list.get('state')) is None:\n",
    "            continue\n",
    "        else:\n",
    "            for val in val2:\n",
    "                li = val.split('-')\n",
    "                if (slot := slot_dict.get(li[1])) is None:\n",
    "                    slot_dict[li[1]]=1\n",
    "                else:\n",
    "                    slot_dict[li[1]]+=1\n"
   ]
  },
  {
   "cell_type": "code",
   "execution_count": 10,
   "id": "considered-cuisine",
   "metadata": {},
   "outputs": [
    {
     "data": {
      "text/plain": [
       "{'종류': 69349,\n",
       " '지역': 62332,\n",
       " '이름': 55875,\n",
       " '야외석 유무': 3295,\n",
       " '가격대': 43873,\n",
       " '예약 요일': 38728,\n",
       " '예약 시간': 19097,\n",
       " '예약 명수': 38670,\n",
       " '출발지': 10405,\n",
       " '도착지': 10364,\n",
       " '인터넷 가능': 4033,\n",
       " '출발 시간': 8219,\n",
       " '도착 시간': 3561,\n",
       " '주차 가능': 7910,\n",
       " '주류 판매': 2863,\n",
       " '흡연 가능': 4534,\n",
       " '예약 기간': 19371,\n",
       " '스파 유무': 3191,\n",
       " '역사적': 4000,\n",
       " '문화 예술': 1194,\n",
       " '헬스장 유무': 1972,\n",
       " '도보 가능': 1462,\n",
       " '조식 가능': 2032,\n",
       " '경치 좋은': 2178,\n",
       " '교육적': 1669,\n",
       " '수영장 유무': 475}"
      ]
     },
     "execution_count": 10,
     "metadata": {},
     "output_type": "execute_result"
    }
   ],
   "source": [
    "slot_dict"
   ]
  },
  {
   "cell_type": "code",
   "execution_count": 11,
   "id": "handy-apple",
   "metadata": {},
   "outputs": [
    {
     "data": {
      "text/plain": [
       "26"
      ]
     },
     "execution_count": 11,
     "metadata": {},
     "output_type": "execute_result"
    }
   ],
   "source": [
    "len(slot_dict)"
   ]
  },
  {
   "cell_type": "code",
   "execution_count": 22,
   "id": "mobile-environment",
   "metadata": {},
   "outputs": [],
   "source": [
    "from konlpy.tag import Mecab"
   ]
  },
  {
   "cell_type": "code",
   "execution_count": 63,
   "id": "brutal-kidney",
   "metadata": {},
   "outputs": [],
   "source": [
    "mecab = Mecab()\n",
    "text = json[10]['dialogue'][0]['text']"
   ]
  },
  {
   "cell_type": "code",
   "execution_count": 66,
   "id": "charged-forestry",
   "metadata": {},
   "outputs": [
    {
     "data": {
      "text/plain": [
       "'저기 서울 남쪽의 저렴한 숙소를 찾아주세요.'"
      ]
     },
     "execution_count": 66,
     "metadata": {},
     "output_type": "execute_result"
    }
   ],
   "source": [
    "text"
   ]
  },
  {
   "cell_type": "code",
   "execution_count": 67,
   "id": "whole-extra",
   "metadata": {},
   "outputs": [],
   "source": [
    "text1= ' '.join(mecab.morphs(text))"
   ]
  },
  {
   "cell_type": "code",
   "execution_count": 55,
   "id": "southern-county",
   "metadata": {},
   "outputs": [],
   "source": [
    "from transformers import AutoTokenizer\n",
    "tokenizer = AutoTokenizer.from_pretrained('klue/roberta-base')"
   ]
  },
  {
   "cell_type": "code",
   "execution_count": 65,
   "id": "satisfied-intellectual",
   "metadata": {},
   "outputs": [
    {
     "data": {
      "text/plain": [
       "['저기', '서울', '남쪽', '##의', '저렴', '##한', '숙소', '##를', '찾아', '##주', '##세요', '.']"
      ]
     },
     "execution_count": 65,
     "metadata": {},
     "output_type": "execute_result"
    }
   ],
   "source": [
    "tokenizer.tokenize(text)"
   ]
  },
  {
   "cell_type": "code",
   "execution_count": 68,
   "id": "incorrect-lawrence",
   "metadata": {},
   "outputs": [
    {
     "data": {
      "text/plain": [
       "['저기', '서울', '남쪽', '의', '저렴', '한', '숙소', '를', '찾', '아', '주', '세요', '.']"
      ]
     },
     "execution_count": 68,
     "metadata": {},
     "output_type": "execute_result"
    }
   ],
   "source": [
    "tokenizer.tokenize(text1)"
   ]
  },
  {
   "cell_type": "code",
   "execution_count": null,
   "id": "compound-telescope",
   "metadata": {},
   "outputs": [],
   "source": []
  }
 ],
 "metadata": {
  "kernelspec": {
   "display_name": "Python 3",
   "language": "python",
   "name": "python3"
  },
  "language_info": {
   "codemirror_mode": {
    "name": "ipython",
    "version": 3
   },
   "file_extension": ".py",
   "mimetype": "text/x-python",
   "name": "python",
   "nbconvert_exporter": "python",
   "pygments_lexer": "ipython3",
   "version": "3.8.7"
  }
 },
 "nbformat": 4,
 "nbformat_minor": 5
}
