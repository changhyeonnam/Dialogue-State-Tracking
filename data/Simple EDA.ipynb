{
 "cells": [
  {
   "cell_type": "code",
   "execution_count": 9,
   "id": "limiting-things",
   "metadata": {},
   "outputs": [],
   "source": [
    "import json\n",
    "json_train = json.load(open('train_dataset/train_dials.json',mode='r'))\n",
    "json_eval = json.load(open('eval_dataset/eval_dials.json',mode='r'))"
   ]
  },
  {
   "cell_type": "code",
   "execution_count": 10,
   "id": "specific-attempt",
   "metadata": {},
   "outputs": [],
   "source": [
    "domain_dict={}\n",
    "for text in json_train:\n",
    "    for val in text['domains']:\n",
    "        if (val2:=domain_dict.get(val)) is None:\n",
    "            domain_dict[val]=1\n",
    "        else:\n",
    "            domain_dict[val]=val2+1"
   ]
  },
  {
   "cell_type": "code",
   "execution_count": 14,
   "id": "engaged-prompt",
   "metadata": {},
   "outputs": [
    {
     "data": {
      "text/plain": [
       "{'관광': 3732, '식당': 4020, '지하철': 650, '택시': 2374, '숙소': 3802}"
      ]
     },
     "execution_count": 14,
     "metadata": {},
     "output_type": "execute_result"
    }
   ],
   "source": [
    "domain_dict"
   ]
  },
  {
   "cell_type": "code",
   "execution_count": 11,
   "id": "automotive-calvin",
   "metadata": {},
   "outputs": [],
   "source": [
    "domain_dict_eval={}"
   ]
  },
  {
   "cell_type": "code",
   "execution_count": 12,
   "id": "saved-lighting",
   "metadata": {},
   "outputs": [],
   "source": [
    "for text in json_eval:\n",
    "    for val in text['domains']:\n",
    "        if (val2:=domain_dict_eval.get(val)) is None:\n",
    "            domain_dict_eval[val]=1\n",
    "        else:\n",
    "            domain_dict_eval[val]=val2+1"
   ]
  },
  {
   "cell_type": "code",
   "execution_count": 13,
   "id": "objective-humor",
   "metadata": {},
   "outputs": [
    {
     "data": {
      "text/plain": [
       "{'숙소': 1261, '관광': 1141, '식당': 1307, '지하철': 291, '택시': 568}"
      ]
     },
     "execution_count": 13,
     "metadata": {},
     "output_type": "execute_result"
    }
   ],
   "source": [
    "domain_dict_eval"
   ]
  },
  {
   "cell_type": "code",
   "execution_count": 15,
   "id": "agricultural-short",
   "metadata": {},
   "outputs": [],
   "source": [
    "# eval + train\n",
    "for text in json_eval:\n",
    "    for val in text['domains']:\n",
    "        if (val2:=domain_dict.get(val)) is None:\n",
    "            domain_dict[val]=1\n",
    "        else:\n",
    "            domain_dict[val]=val2+1"
   ]
  },
  {
   "cell_type": "code",
   "execution_count": 16,
   "id": "excited-queens",
   "metadata": {},
   "outputs": [
    {
     "data": {
      "text/plain": [
       "{'관광': 4873, '식당': 5327, '지하철': 941, '택시': 2942, '숙소': 5063}"
      ]
     },
     "execution_count": 16,
     "metadata": {},
     "output_type": "execute_result"
    }
   ],
   "source": [
    "domain_dict"
   ]
  },
  {
   "cell_type": "code",
   "execution_count": 17,
   "id": "hydraulic-messenger",
   "metadata": {},
   "outputs": [],
   "source": [
    "slot_dict={}\n",
    "for text in json_train:\n",
    "    for val_list in text['dialogue']:\n",
    "        if (val2:=val_list.get('state')) is None:\n",
    "            continue\n",
    "        else:\n",
    "            for val in val2:\n",
    "                li = val.split('-')\n",
    "                if (slot := slot_dict.get(li[1])) is None:\n",
    "                    slot_dict[li[1]]=1\n",
    "                else:\n",
    "                    slot_dict[li[1]]+=1"
   ]
  },
  {
   "cell_type": "code",
   "execution_count": 18,
   "id": "random-honor",
   "metadata": {},
   "outputs": [
    {
     "data": {
      "text/plain": [
       "{'종류': 69349,\n",
       " '지역': 62332,\n",
       " '이름': 55875,\n",
       " '야외석 유무': 3295,\n",
       " '가격대': 43873,\n",
       " '예약 요일': 38728,\n",
       " '예약 시간': 19097,\n",
       " '예약 명수': 38670,\n",
       " '출발지': 10405,\n",
       " '도착지': 10364,\n",
       " '인터넷 가능': 4033,\n",
       " '출발 시간': 8219,\n",
       " '도착 시간': 3561,\n",
       " '주차 가능': 7910,\n",
       " '주류 판매': 2863,\n",
       " '흡연 가능': 4534,\n",
       " '예약 기간': 19371,\n",
       " '스파 유무': 3191,\n",
       " '역사적': 4000,\n",
       " '문화 예술': 1194,\n",
       " '헬스장 유무': 1972,\n",
       " '도보 가능': 1462,\n",
       " '조식 가능': 2032,\n",
       " '경치 좋은': 2178,\n",
       " '교육적': 1669,\n",
       " '수영장 유무': 475}"
      ]
     },
     "execution_count": 18,
     "metadata": {},
     "output_type": "execute_result"
    }
   ],
   "source": [
    "slot_dict"
   ]
  },
  {
   "cell_type": "code",
   "execution_count": 19,
   "id": "married-disney",
   "metadata": {},
   "outputs": [
    {
     "data": {
      "text/plain": [
       "26"
      ]
     },
     "execution_count": 19,
     "metadata": {},
     "output_type": "execute_result"
    }
   ],
   "source": [
    "len(slot_dict)"
   ]
  },
  {
   "cell_type": "code",
   "execution_count": null,
   "id": "acoustic-caribbean",
   "metadata": {},
   "outputs": [],
   "source": []
  }
 ],
 "metadata": {
  "kernelspec": {
   "display_name": "Python 3",
   "language": "python",
   "name": "python3"
  },
  "language_info": {
   "codemirror_mode": {
    "name": "ipython",
    "version": 3
   },
   "file_extension": ".py",
   "mimetype": "text/x-python",
   "name": "python",
   "nbconvert_exporter": "python",
   "pygments_lexer": "ipython3",
   "version": "3.8.7"
  }
 },
 "nbformat": 4,
 "nbformat_minor": 5
}
